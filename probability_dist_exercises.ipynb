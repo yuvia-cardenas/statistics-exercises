{
 "cells": [
  {
   "cell_type": "code",
   "execution_count": 6,
   "id": "949e6133",
   "metadata": {},
   "outputs": [],
   "source": [
    "# pyplot for plotting\n",
    "import matplotlib.pyplot as plt\n",
    "# numpy for vectorized array operations\n",
    "import numpy as np\n",
    "# pandas for proper tabular manipulation\n",
    "import pandas as pd\n",
    "# scipy stats for our subversions\n",
    "from scipy import stats"
   ]
  },
  {
   "cell_type": "code",
   "execution_count": 7,
   "id": "4b5c46dc",
   "metadata": {},
   "outputs": [],
   "source": [
    "λ = 2\n",
    "cars_dist = stats.poisson(λ)"
   ]
  },
  {
   "cell_type": "code",
   "execution_count": 8,
   "id": "823dfe83",
   "metadata": {},
   "outputs": [],
   "source": [
    "#What is the probability that no cars drive up in the noon hour?"
   ]
  },
  {
   "cell_type": "code",
   "execution_count": 9,
   "id": "ee65809d",
   "metadata": {},
   "outputs": [
    {
     "data": {
      "text/plain": [
       "0.1353352832366127"
      ]
     },
     "execution_count": 9,
     "metadata": {},
     "output_type": "execute_result"
    }
   ],
   "source": [
    "cars_dist.pmf(0)"
   ]
  },
  {
   "cell_type": "code",
   "execution_count": 10,
   "id": "d73d31c3",
   "metadata": {},
   "outputs": [],
   "source": [
    "#What is the probability that 3 or more cars come through the drive through?"
   ]
  },
  {
   "cell_type": "code",
   "execution_count": 11,
   "id": "2305a637",
   "metadata": {},
   "outputs": [
    {
     "data": {
      "text/plain": [
       "0.32332358381693654"
      ]
     },
     "execution_count": 11,
     "metadata": {},
     "output_type": "execute_result"
    }
   ],
   "source": [
    "cars_dist.sf(2)\n"
   ]
  },
  {
   "cell_type": "code",
   "execution_count": 12,
   "id": "c33cec90",
   "metadata": {},
   "outputs": [],
   "source": [
    "#How likely is it that the drive through gets at least 1 car?"
   ]
  },
  {
   "cell_type": "code",
   "execution_count": 74,
   "id": "de10d99d",
   "metadata": {},
   "outputs": [
    {
     "data": {
      "text/plain": [
       "0.8646647167633873"
      ]
     },
     "execution_count": 74,
     "metadata": {},
     "output_type": "execute_result"
    }
   ],
   "source": [
    "cars_dist.sf(0)"
   ]
  },
  {
   "cell_type": "code",
   "execution_count": 75,
   "id": "0386992e",
   "metadata": {},
   "outputs": [
    {
     "data": {
      "text/plain": [
       "<scipy.stats._distn_infrastructure.rv_frozen at 0x126965880>"
      ]
     },
     "execution_count": 75,
     "metadata": {},
     "output_type": "execute_result"
    }
   ],
   "source": [
    "μ = 3\n",
    "σ = .3\n",
    "\n",
    "grades_dist = stats.norm(μ, σ)\n",
    "grades_dist\n"
   ]
  },
  {
   "cell_type": "code",
   "execution_count": 18,
   "id": "2bacabfe",
   "metadata": {},
   "outputs": [],
   "source": [
    "# What grade point average is required to be in the top 5% of the graduating class?"
   ]
  },
  {
   "cell_type": "code",
   "execution_count": 23,
   "id": "6b561682",
   "metadata": {},
   "outputs": [
    {
     "data": {
      "text/plain": [
       "3.4934560880854417"
      ]
     },
     "execution_count": 23,
     "metadata": {},
     "output_type": "execute_result"
    }
   ],
   "source": [
    "grades_dist.isf(.05)"
   ]
  },
  {
   "cell_type": "code",
   "execution_count": 22,
   "id": "515910a2",
   "metadata": {},
   "outputs": [],
   "source": [
    "#What GPA constitutes the bottom 15% of the class?"
   ]
  },
  {
   "cell_type": "code",
   "execution_count": 84,
   "id": "f369667d",
   "metadata": {},
   "outputs": [
    {
     "data": {
      "text/plain": [
       "2.689069983151863"
      ]
     },
     "execution_count": 84,
     "metadata": {},
     "output_type": "execute_result"
    }
   ],
   "source": [
    "grades_dist.ppf(.15)"
   ]
  },
  {
   "cell_type": "code",
   "execution_count": 77,
   "id": "92d51e66",
   "metadata": {},
   "outputs": [
    {
     "data": {
      "text/plain": [
       "array([2.74751363, 2.84267985])"
      ]
     },
     "execution_count": 77,
     "metadata": {},
     "output_type": "execute_result"
    }
   ],
   "source": [
    "#An eccentric alumnus left scholarship money for students in the third \n",
    "#decile from the bottom of their class. Determine the range of the third decile. \n",
    "#Would a student with a 2.8 grade point average qualify for this scholarship?\n",
    "grades_dist.ppf([0.2, .30])"
   ]
  },
  {
   "cell_type": "code",
   "execution_count": 26,
   "id": "9cfaf6b7",
   "metadata": {},
   "outputs": [],
   "source": [
    "#If I have a GPA of 3.5, what percentile am I in?"
   ]
  },
  {
   "cell_type": "code",
   "execution_count": 76,
   "id": "e1473002",
   "metadata": {},
   "outputs": [
    {
     "data": {
      "text/plain": [
       "0.9522096477271853"
      ]
     },
     "execution_count": 76,
     "metadata": {},
     "output_type": "execute_result"
    }
   ],
   "source": [
    "grades_dist.cdf(3.5)\n"
   ]
  },
  {
   "cell_type": "code",
   "execution_count": 35,
   "id": "191d0342",
   "metadata": {},
   "outputs": [],
   "source": [
    "#A marketing website has an average click-through rate of 2%. \n",
    "#One day they observe 4326 visitors and 97 click-throughs. \n",
    "#How likely is it that this many people or more click through?"
   ]
  },
  {
   "cell_type": "code",
   "execution_count": 38,
   "id": "987f3bc5",
   "metadata": {},
   "outputs": [
    {
     "data": {
      "text/plain": [
       "0.13975823631416448"
      ]
     },
     "execution_count": 38,
     "metadata": {},
     "output_type": "execute_result"
    }
   ],
   "source": [
    "trials = 4326\n",
    "prob = 0.02\n",
    "\n",
    "click_thru = stats.binom(trials, prob).sf(96)\n",
    "click_thru"
   ]
  },
  {
   "cell_type": "code",
   "execution_count": 52,
   "id": "e0954aee",
   "metadata": {},
   "outputs": [],
   "source": [
    "#You are working on some statistics homework consisting of 100 questions \n",
    "#where all of the answers are a probability rounded to the hundreths place.\n",
    "#Looking to save time, you put down random probabilities as the answer to each question.\n",
    "trials = 60\n",
    "prob = 0.01\n",
    "\n",
    "answrs = stats.binom(trials, prob)"
   ]
  },
  {
   "cell_type": "code",
   "execution_count": 85,
   "id": "e394e238",
   "metadata": {},
   "outputs": [
    {
     "data": {
      "text/plain": [
       "0.45284335760923855"
      ]
     },
     "execution_count": 85,
     "metadata": {},
     "output_type": "execute_result"
    }
   ],
   "source": [
    "answrs.sf(0)"
   ]
  },
  {
   "cell_type": "code",
   "execution_count": null,
   "id": "7ebca7ff",
   "metadata": {},
   "outputs": [],
   "source": [
    "The codeup staff tends to get upset when the student break area is not cleaned up. \n",
    "Suppose that there's a 3% chance that any one student cleans the break area when \n",
    "they visit it, and, on any given day, about 90% of the 3 active cohorts of 22 \n",
    "students visit the break area. \n",
    "How likely is it that the break area gets cleaned \n",
    "up each day? \n",
    "How likely is it that it goes two days without getting cleaned up? All week?"
   ]
  },
  {
   "cell_type": "code",
   "execution_count": 87,
   "id": "e8ddc773",
   "metadata": {},
   "outputs": [
    {
     "data": {
      "text/plain": [
       "0.8391933309784232"
      ]
     },
     "execution_count": 87,
     "metadata": {},
     "output_type": "execute_result"
    }
   ],
   "source": [
    "clean_brake = stats.binom(60, .03).sf(0)\n",
    "#=100 every day\n",
    "clean_brake"
   ]
  },
  {
   "cell_type": "code",
   "execution_count": 88,
   "id": "29a0ad17",
   "metadata": {},
   "outputs": [
    {
     "data": {
      "text/plain": [
       "0.02585878480181495"
      ]
     },
     "execution_count": 88,
     "metadata": {},
     "output_type": "execute_result"
    }
   ],
   "source": [
    "trials = 2\n",
    "prob = 1 - clean_brake\n",
    "\n",
    "\n",
    "dirty_brake = stats.binom(trials, prob).pmf(2)\n",
    "\n",
    "dirty_brake"
   ]
  },
  {
   "cell_type": "code",
   "execution_count": 80,
   "id": "228bafa2",
   "metadata": {},
   "outputs": [
    {
     "data": {
      "text/plain": [
       "0.020420221747146933"
      ]
     },
     "execution_count": 80,
     "metadata": {},
     "output_type": "execute_result"
    }
   ],
   "source": [
    "trials = 5\n",
    "prob = 1 - clean_brake\n",
    "\n",
    "\n",
    "dirty_brake = stats.binom(trials, prob).pmf(5)\n",
    "\n",
    "dirty_brake\n",
    "\n",
    "\n"
   ]
  },
  {
   "cell_type": "code",
   "execution_count": 90,
   "id": "011b94a8",
   "metadata": {},
   "outputs": [
    {
     "data": {
      "text/plain": [
       "0.6914624612740131"
      ]
     },
     "execution_count": 90,
     "metadata": {},
     "output_type": "execute_result"
    }
   ],
   "source": [
    "μ = 15*2\n",
    "σ = 3*2\n",
    "\n",
    "lunch = stats.norm(μ, σ).cdf(33)\n",
    "lunch"
   ]
  },
  {
   "cell_type": "code",
   "execution_count": null,
   "id": "dbd2d242",
   "metadata": {},
   "outputs": [],
   "source": []
  }
 ],
 "metadata": {
  "kernelspec": {
   "display_name": "Python 3 (ipykernel)",
   "language": "python",
   "name": "python3"
  },
  "language_info": {
   "codemirror_mode": {
    "name": "ipython",
    "version": 3
   },
   "file_extension": ".py",
   "mimetype": "text/x-python",
   "name": "python",
   "nbconvert_exporter": "python",
   "pygments_lexer": "ipython3",
   "version": "3.9.12"
  }
 },
 "nbformat": 4,
 "nbformat_minor": 5
}
