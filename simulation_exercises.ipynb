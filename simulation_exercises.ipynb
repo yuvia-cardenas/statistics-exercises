{
 "cells": [
  {
   "cell_type": "code",
   "execution_count": 2,
   "id": "95c7eed3",
   "metadata": {},
   "outputs": [],
   "source": [
    "import numpy as np\n",
    "import pandas as pd\n",
    "import matplotlib.pyplot as plt\n",
    "%config InlineBackend.figure_format = 'retina'\n",
    "import viz # curriculum example visualizations\n",
    "\n",
    "np.random.seed(29)"
   ]
  },
  {
   "cell_type": "code",
   "execution_count": 3,
   "id": "107f73ca",
   "metadata": {},
   "outputs": [
    {
     "data": {
      "text/html": [
       "<div>\n",
       "<style scoped>\n",
       "    .dataframe tbody tr th:only-of-type {\n",
       "        vertical-align: middle;\n",
       "    }\n",
       "\n",
       "    .dataframe tbody tr th {\n",
       "        vertical-align: top;\n",
       "    }\n",
       "\n",
       "    .dataframe thead th {\n",
       "        text-align: right;\n",
       "    }\n",
       "</style>\n",
       "<table border=\"1\" class=\"dataframe\">\n",
       "  <thead>\n",
       "    <tr style=\"text-align: right;\">\n",
       "      <th></th>\n",
       "      <th>roll_1</th>\n",
       "      <th>roll_2</th>\n",
       "    </tr>\n",
       "  </thead>\n",
       "  <tbody>\n",
       "    <tr>\n",
       "      <th>0</th>\n",
       "      <td>6</td>\n",
       "      <td>4</td>\n",
       "    </tr>\n",
       "    <tr>\n",
       "      <th>1</th>\n",
       "      <td>5</td>\n",
       "      <td>6</td>\n",
       "    </tr>\n",
       "    <tr>\n",
       "      <th>2</th>\n",
       "      <td>3</td>\n",
       "      <td>1</td>\n",
       "    </tr>\n",
       "    <tr>\n",
       "      <th>3</th>\n",
       "      <td>1</td>\n",
       "      <td>2</td>\n",
       "    </tr>\n",
       "    <tr>\n",
       "      <th>4</th>\n",
       "      <td>2</td>\n",
       "      <td>1</td>\n",
       "    </tr>\n",
       "    <tr>\n",
       "      <th>...</th>\n",
       "      <td>...</td>\n",
       "      <td>...</td>\n",
       "    </tr>\n",
       "    <tr>\n",
       "      <th>99995</th>\n",
       "      <td>3</td>\n",
       "      <td>5</td>\n",
       "    </tr>\n",
       "    <tr>\n",
       "      <th>99996</th>\n",
       "      <td>5</td>\n",
       "      <td>1</td>\n",
       "    </tr>\n",
       "    <tr>\n",
       "      <th>99997</th>\n",
       "      <td>5</td>\n",
       "      <td>6</td>\n",
       "    </tr>\n",
       "    <tr>\n",
       "      <th>99998</th>\n",
       "      <td>5</td>\n",
       "      <td>5</td>\n",
       "    </tr>\n",
       "    <tr>\n",
       "      <th>99999</th>\n",
       "      <td>6</td>\n",
       "      <td>5</td>\n",
       "    </tr>\n",
       "  </tbody>\n",
       "</table>\n",
       "<p>100000 rows × 2 columns</p>\n",
       "</div>"
      ],
      "text/plain": [
       "       roll_1  roll_2\n",
       "0           6       4\n",
       "1           5       6\n",
       "2           3       1\n",
       "3           1       2\n",
       "4           2       1\n",
       "...       ...     ...\n",
       "99995       3       5\n",
       "99996       5       1\n",
       "99997       5       6\n",
       "99998       5       5\n",
       "99999       6       5\n",
       "\n",
       "[100000 rows x 2 columns]"
      ]
     },
     "execution_count": 3,
     "metadata": {},
     "output_type": "execute_result"
    }
   ],
   "source": [
    "#1. How likely is it that you roll doubles when rolling two dice?\n",
    "n_simulations = nrows = 10**5\n",
    "n_dice_rolled = ncols = 2\n",
    "\n",
    "rolls = np.random.choice([1, 2, 3, 4, 5, 6], size = (nrows, ncols))\n",
    "rolls_df = pd.DataFrame(rolls, columns=['roll_1', 'roll_2'])\n",
    "rolls_df"
   ]
  },
  {
   "cell_type": "code",
   "execution_count": 4,
   "id": "5aa08ce8",
   "metadata": {},
   "outputs": [
    {
     "data": {
      "text/plain": [
       "0.16645"
      ]
     },
     "execution_count": 4,
     "metadata": {},
     "output_type": "execute_result"
    }
   ],
   "source": [
    "rolls_df['doubles'] = (rolls_df.roll_1 == rolls_df.roll_2)\n",
    "# .sum()/n_simulations is the same as .mean() because the array is T/F\n",
    "#where True = 1 it is outputting the statistical average of the trues\n",
    "rolls_df.doubles.sum()/n_simulations\n",
    "#naps.sum(axis=1)\n",
    "#(naps.sum(axis=1) >= 1).mean()"
   ]
  },
  {
   "cell_type": "code",
   "execution_count": 12,
   "id": "5d1f676f",
   "metadata": {},
   "outputs": [],
   "source": [
    "#2. If you flip 8 coins, what is the probability of getting \n",
    "#exactly 3 heads? What is the probability of getting more than 3 heads?\n",
    "# 1=heads =true 2=tails\n",
    "n_simulations = nrows = 10**5\n",
    "n_coin_toss = ncols = 8\n",
    "\n",
    "tosses = np.random.choice([True, False], size = (nrows, ncols))\n",
    "tosses_df = pd.DataFrame(tosses, columns=['toss_1', 'toss_2', 'toss_3', 'toss_4', 'toss_5', 'toss_6', 'toss_7', 'toss_8'])\n",
    "\n",
    "tosses_df['sum_totals'] = tosses_df.apply(lambda row:row.sum(), axis=1)\n",
    "exactly_3 = len(tosses_df[tosses_df.sum_totals == 3])/n_simulations\n",
    "more_than_3 = len(tosses_df[tosses_df.sum_totals > 3])/n_simulations\n",
    "#tosses_df['heads_exactly_3'] = tosses_df.\n",
    "#rolls_df.head()\n"
   ]
  },
  {
   "cell_type": "code",
   "execution_count": 11,
   "id": "60ff0672",
   "metadata": {},
   "outputs": [
    {
     "data": {
      "text/plain": [
       "0.63692"
      ]
     },
     "execution_count": 11,
     "metadata": {},
     "output_type": "execute_result"
    }
   ],
   "source": [
    "more_than_3"
   ]
  },
  {
   "cell_type": "code",
   "execution_count": 6,
   "id": "cd0277b3",
   "metadata": {},
   "outputs": [
    {
     "data": {
      "text/plain": [
       "0.21889"
      ]
     },
     "execution_count": 6,
     "metadata": {},
     "output_type": "execute_result"
    }
   ],
   "source": [
    "exactly_3"
   ]
  },
  {
   "cell_type": "code",
   "execution_count": 7,
   "id": "311f64f9",
   "metadata": {},
   "outputs": [
    {
     "data": {
      "text/html": [
       "<div>\n",
       "<style scoped>\n",
       "    .dataframe tbody tr th:only-of-type {\n",
       "        vertical-align: middle;\n",
       "    }\n",
       "\n",
       "    .dataframe tbody tr th {\n",
       "        vertical-align: top;\n",
       "    }\n",
       "\n",
       "    .dataframe thead th {\n",
       "        text-align: right;\n",
       "    }\n",
       "</style>\n",
       "<table border=\"1\" class=\"dataframe\">\n",
       "  <thead>\n",
       "    <tr style=\"text-align: right;\">\n",
       "      <th></th>\n",
       "      <th>billboard_1</th>\n",
       "      <th>billboard_2</th>\n",
       "    </tr>\n",
       "  </thead>\n",
       "  <tbody>\n",
       "    <tr>\n",
       "      <th>0</th>\n",
       "      <td>0</td>\n",
       "      <td>0</td>\n",
       "    </tr>\n",
       "    <tr>\n",
       "      <th>1</th>\n",
       "      <td>0</td>\n",
       "      <td>0</td>\n",
       "    </tr>\n",
       "    <tr>\n",
       "      <th>2</th>\n",
       "      <td>0</td>\n",
       "      <td>0</td>\n",
       "    </tr>\n",
       "    <tr>\n",
       "      <th>3</th>\n",
       "      <td>0</td>\n",
       "      <td>0</td>\n",
       "    </tr>\n",
       "    <tr>\n",
       "      <th>4</th>\n",
       "      <td>1</td>\n",
       "      <td>1</td>\n",
       "    </tr>\n",
       "    <tr>\n",
       "      <th>...</th>\n",
       "      <td>...</td>\n",
       "      <td>...</td>\n",
       "    </tr>\n",
       "    <tr>\n",
       "      <th>99995</th>\n",
       "      <td>0</td>\n",
       "      <td>0</td>\n",
       "    </tr>\n",
       "    <tr>\n",
       "      <th>99996</th>\n",
       "      <td>0</td>\n",
       "      <td>1</td>\n",
       "    </tr>\n",
       "    <tr>\n",
       "      <th>99997</th>\n",
       "      <td>1</td>\n",
       "      <td>1</td>\n",
       "    </tr>\n",
       "    <tr>\n",
       "      <th>99998</th>\n",
       "      <td>0</td>\n",
       "      <td>0</td>\n",
       "    </tr>\n",
       "    <tr>\n",
       "      <th>99999</th>\n",
       "      <td>0</td>\n",
       "      <td>0</td>\n",
       "    </tr>\n",
       "  </tbody>\n",
       "</table>\n",
       "<p>100000 rows × 2 columns</p>\n",
       "</div>"
      ],
      "text/plain": [
       "       billboard_1  billboard_2\n",
       "0                0            0\n",
       "1                0            0\n",
       "2                0            0\n",
       "3                0            0\n",
       "4                1            1\n",
       "...            ...          ...\n",
       "99995            0            0\n",
       "99996            0            1\n",
       "99997            1            1\n",
       "99998            0            0\n",
       "99999            0            0\n",
       "\n",
       "[100000 rows x 2 columns]"
      ]
     },
     "execution_count": 7,
     "metadata": {},
     "output_type": "execute_result"
    }
   ],
   "source": [
    "# 3. There are approximately 3 web development cohorts for \n",
    "#every 1 data science cohort at Codeup. Assuming that Codeup \n",
    "#randomly selects an alumni to put on a billboard, what are \n",
    "#the odds that the two billboards I drive past both have data \n",
    "#science students on them?\n",
    "#'web1', 'web2', 'web3', 'ds4'\n",
    "n_simulations = nrows = 10**5\n",
    "n_billboards = ncols = 2\n",
    "\n",
    "drive_by = np.random.choice([0,0,0,1], size = (nrows, ncols))\n",
    "drive_by_df = pd.DataFrame(drive_by, columns=['billboard_1', 'billboard_2'])\n",
    "drive_by_df"
   ]
  },
  {
   "cell_type": "code",
   "execution_count": 13,
   "id": "1f96b074",
   "metadata": {},
   "outputs": [
    {
     "data": {
      "text/plain": [
       "0.06352"
      ]
     },
     "execution_count": 13,
     "metadata": {},
     "output_type": "execute_result"
    }
   ],
   "source": [
    "#sum these by row then get probability\n",
    "((drive_by_df.sum(axis=1)==2).sum())/n_simulations\n",
    "\n",
    "#odds= p/(1-p)\n",
    "#chances = will happen /versus not"
   ]
  },
  {
   "cell_type": "code",
   "execution_count": 14,
   "id": "1ae16b24",
   "metadata": {},
   "outputs": [],
   "source": [
    "\n",
    "#start 17 on Monday\n",
    "#per_day = 3\n",
    "#ndays = ncols = 7\n",
    "#n_simulated_days = nrows = 10**5\n",
    "poptart = np.random.normal(loc=3, scale=1.5, size=(10000, 5))\n",
    "\n",
    "#data = np.random.random(size =(nrows, ncols))\n"
   ]
  },
  {
   "cell_type": "code",
   "execution_count": 15,
   "id": "6de0608e",
   "metadata": {},
   "outputs": [
    {
     "data": {
      "image/png": "[encoded data removed]",
      "text/plain": [
       "<Figure size 648x432 with 1 Axes>"
      ]
     },
     "metadata": {
      "image/png": {
       "height": 357,
       "width": 549
      },
      "needs_background": "light"
     },
     "output_type": "display_data"
    }
   ],
   "source": [
    "plt.hist(np.random.normal(3, 1.5, size = (10000)));"
   ]
  },
  {
   "cell_type": "code",
   "execution_count": 18,
   "id": "0192fd4a",
   "metadata": {},
   "outputs": [
    {
     "data": {
      "text/plain": [
       "array([ True,  True,  True, ...,  True,  True,  True])"
      ]
     },
     "execution_count": 18,
     "metadata": {},
     "output_type": "execute_result"
    }
   ],
   "source": [
    "#if the sum of the weeks purchase lees than or equal to 16 then that leaves one for me to buy\n",
    "poptart.sum(axis = 1) <= 16"
   ]
  },
  {
   "cell_type": "code",
   "execution_count": 19,
   "id": "a0e61c2d",
   "metadata": {},
   "outputs": [
    {
     "data": {
      "text/plain": [
       "0.6267"
      ]
     },
     "execution_count": 19,
     "metadata": {},
     "output_type": "execute_result"
    }
   ],
   "source": [
    "(poptart.sum(axis = 1) <= 16).mean()"
   ]
  },
  {
   "cell_type": "code",
   "execution_count": 29,
   "id": "48883258",
   "metadata": {},
   "outputs": [
    {
     "data": {
      "text/html": [
       "<div>\n",
       "<style scoped>\n",
       "    .dataframe tbody tr th:only-of-type {\n",
       "        vertical-align: middle;\n",
       "    }\n",
       "\n",
       "    .dataframe tbody tr th {\n",
       "        vertical-align: top;\n",
       "    }\n",
       "\n",
       "    .dataframe thead th {\n",
       "        text-align: right;\n",
       "    }\n",
       "</style>\n",
       "<table border=\"1\" class=\"dataframe\">\n",
       "  <thead>\n",
       "    <tr style=\"text-align: right;\">\n",
       "      <th></th>\n",
       "      <th>0</th>\n",
       "    </tr>\n",
       "  </thead>\n",
       "  <tbody>\n",
       "    <tr>\n",
       "      <th>0</th>\n",
       "      <td>[183.07687994500455, 166.6154467568131, 177.39...</td>\n",
       "    </tr>\n",
       "    <tr>\n",
       "      <th>1</th>\n",
       "      <td>[174.95659935003115, 166.5527403569511, 176.58...</td>\n",
       "    </tr>\n",
       "  </tbody>\n",
       "</table>\n",
       "</div>"
      ],
      "text/plain": [
       "                                                   0\n",
       "0  [183.07687994500455, 166.6154467568131, 177.39...\n",
       "1  [174.95659935003115, 166.5527403569511, 176.58..."
      ]
     },
     "execution_count": 29,
     "metadata": {},
     "output_type": "execute_result"
    }
   ],
   "source": [
    "#5. Compare Heights\n",
    "\n",
    "\n",
    "men = np.random.normal(178, 8, size = 10000)\n",
    "women = np.random.normal(170, 6, size = 10000)\n",
    "compare = pd.DataFrame([[men], [women]])\n",
    "compare"
   ]
  },
  {
   "cell_type": "code",
   "execution_count": null,
   "id": "8ea0617e",
   "metadata": {},
   "outputs": [],
   "source": [
    "#6 "
   ]
  },
  {
   "cell_type": "code",
   "execution_count": null,
   "id": "28e05471",
   "metadata": {},
   "outputs": [],
   "source": [
    "#7 birthdays = 365 "
   ]
  },
  {
   "cell_type": "code",
   "execution_count": null,
   "id": "ae3ed305",
   "metadata": {},
   "outputs": [],
   "source": []
  }
 ],
 "metadata": {
  "kernelspec": {
   "display_name": "Python 3 (ipykernel)",
   "language": "python",
   "name": "python3"
  },
  "language_info": {
   "codemirror_mode": {
    "name": "ipython",
    "version": 3
   },
   "file_extension": ".py",
   "mimetype": "text/x-python",
   "name": "python",
   "nbconvert_exporter": "python",
   "pygments_lexer": "ipython3",
   "version": "3.9.12"
  }
 },
 "nbformat": 4,
 "nbformat_minor": 5
}
