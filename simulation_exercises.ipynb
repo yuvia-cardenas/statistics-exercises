{
 "cells": [
  {
   "cell_type": "code",
   "execution_count": 4,
   "id": "95c7eed3",
   "metadata": {},
   "outputs": [],
   "source": [
    "import numpy as np\n",
    "import pandas as pd\n",
    "import matplotlib.pyplot as plt\n",
    "%config InlineBackend.figure_format = 'retina'\n",
    "import viz # curriculum example visualizations\n",
    "\n",
    "np.random.seed(29)"
   ]
  },
  {
   "cell_type": "code",
   "execution_count": 21,
   "id": "107f73ca",
   "metadata": {},
   "outputs": [
    {
     "data": {
      "text/html": [
       "<div>\n",
       "<style scoped>\n",
       "    .dataframe tbody tr th:only-of-type {\n",
       "        vertical-align: middle;\n",
       "    }\n",
       "\n",
       "    .dataframe tbody tr th {\n",
       "        vertical-align: top;\n",
       "    }\n",
       "\n",
       "    .dataframe thead th {\n",
       "        text-align: right;\n",
       "    }\n",
       "</style>\n",
       "<table border=\"1\" class=\"dataframe\">\n",
       "  <thead>\n",
       "    <tr style=\"text-align: right;\">\n",
       "      <th></th>\n",
       "      <th>roll_1</th>\n",
       "      <th>roll_2</th>\n",
       "    </tr>\n",
       "  </thead>\n",
       "  <tbody>\n",
       "    <tr>\n",
       "      <th>0</th>\n",
       "      <td>1</td>\n",
       "      <td>1</td>\n",
       "    </tr>\n",
       "    <tr>\n",
       "      <th>1</th>\n",
       "      <td>3</td>\n",
       "      <td>2</td>\n",
       "    </tr>\n",
       "    <tr>\n",
       "      <th>2</th>\n",
       "      <td>6</td>\n",
       "      <td>6</td>\n",
       "    </tr>\n",
       "    <tr>\n",
       "      <th>3</th>\n",
       "      <td>4</td>\n",
       "      <td>3</td>\n",
       "    </tr>\n",
       "    <tr>\n",
       "      <th>4</th>\n",
       "      <td>2</td>\n",
       "      <td>3</td>\n",
       "    </tr>\n",
       "    <tr>\n",
       "      <th>...</th>\n",
       "      <td>...</td>\n",
       "      <td>...</td>\n",
       "    </tr>\n",
       "    <tr>\n",
       "      <th>99995</th>\n",
       "      <td>6</td>\n",
       "      <td>1</td>\n",
       "    </tr>\n",
       "    <tr>\n",
       "      <th>99996</th>\n",
       "      <td>1</td>\n",
       "      <td>3</td>\n",
       "    </tr>\n",
       "    <tr>\n",
       "      <th>99997</th>\n",
       "      <td>6</td>\n",
       "      <td>4</td>\n",
       "    </tr>\n",
       "    <tr>\n",
       "      <th>99998</th>\n",
       "      <td>6</td>\n",
       "      <td>4</td>\n",
       "    </tr>\n",
       "    <tr>\n",
       "      <th>99999</th>\n",
       "      <td>4</td>\n",
       "      <td>2</td>\n",
       "    </tr>\n",
       "  </tbody>\n",
       "</table>\n",
       "<p>100000 rows × 2 columns</p>\n",
       "</div>"
      ],
      "text/plain": [
       "       roll_1  roll_2\n",
       "0           1       1\n",
       "1           3       2\n",
       "2           6       6\n",
       "3           4       3\n",
       "4           2       3\n",
       "...       ...     ...\n",
       "99995       6       1\n",
       "99996       1       3\n",
       "99997       6       4\n",
       "99998       6       4\n",
       "99999       4       2\n",
       "\n",
       "[100000 rows x 2 columns]"
      ]
     },
     "execution_count": 21,
     "metadata": {},
     "output_type": "execute_result"
    }
   ],
   "source": [
    "#1. How likely is it that you roll doubles when rolling two dice?\n",
    "n_simulations = nrows = 10**5\n",
    "n_dice_rolled = ncols = 2\n",
    "\n",
    "rolls = np.random.choice([1, 2, 3, 4, 5, 6], size = (nrows, ncols))\n",
    "rolls_df = pd.DataFrame(rolls, columns=['roll_1', 'roll_2'])\n",
    "rolls_df"
   ]
  },
  {
   "cell_type": "code",
   "execution_count": 50,
   "id": "5aa08ce8",
   "metadata": {},
   "outputs": [
    {
     "data": {
      "text/plain": [
       "0.16663"
      ]
     },
     "execution_count": 50,
     "metadata": {},
     "output_type": "execute_result"
    }
   ],
   "source": [
    "rolls_df['doubles'] = (rolls_df.roll_1 == rolls_df.roll_2)\n",
    "\n",
    "rolls_df.doubles.sum()/n_simulations\n",
    "#naps.sum(axis=1)\n",
    "#(naps.sum(axis=1) >= 1).mean()"
   ]
  },
  {
   "cell_type": "code",
   "execution_count": 48,
   "id": "5d1f676f",
   "metadata": {},
   "outputs": [
    {
     "data": {
      "text/plain": [
       "0.63532"
      ]
     },
     "execution_count": 48,
     "metadata": {},
     "output_type": "execute_result"
    }
   ],
   "source": [
    "#2. If you flip 8 coins, what is the probability of getting \n",
    "#exactly 3 heads? What is the probability of getting more than 3 heads?\n",
    "# 1=heads =true 2=tails\n",
    "n_simulations = nrows = 10**5\n",
    "n_coin_toss = ncols = 8\n",
    "\n",
    "tosses = np.random.choice([True, False], size = (nrows, ncols))\n",
    "tosses_df = pd.DataFrame(tosses, columns=['toss_1', 'toss_2', 'toss_3', 'toss_4', 'toss_5', 'toss_6', 'toss_7', 'toss_8'])\n",
    "\n",
    "tosses_df['sum_totals'] = tosses_df.apply(lambda row:row.sum(), axis=1)\n",
    "exactly_3 = len(tosses_df[tosses_df.sum_totals == 3])/n_simulations\n",
    "more_than_3 = len(tosses_df[tosses_df.sum_totals > 3])/n_simulations\n",
    "#tosses_df['heads_exactly_3'] = tosses_df.\n",
    "#rolls_df.head()\n",
    "more_than_3"
   ]
  },
  {
   "cell_type": "code",
   "execution_count": 49,
   "id": "cd0277b3",
   "metadata": {},
   "outputs": [
    {
     "data": {
      "text/plain": [
       "0.21939"
      ]
     },
     "execution_count": 49,
     "metadata": {},
     "output_type": "execute_result"
    }
   ],
   "source": [
    "exactly_3"
   ]
  },
  {
   "cell_type": "code",
   "execution_count": 68,
   "id": "311f64f9",
   "metadata": {},
   "outputs": [
    {
     "data": {
      "text/html": [
       "<div>\n",
       "<style scoped>\n",
       "    .dataframe tbody tr th:only-of-type {\n",
       "        vertical-align: middle;\n",
       "    }\n",
       "\n",
       "    .dataframe tbody tr th {\n",
       "        vertical-align: top;\n",
       "    }\n",
       "\n",
       "    .dataframe thead th {\n",
       "        text-align: right;\n",
       "    }\n",
       "</style>\n",
       "<table border=\"1\" class=\"dataframe\">\n",
       "  <thead>\n",
       "    <tr style=\"text-align: right;\">\n",
       "      <th></th>\n",
       "      <th>billboard_1</th>\n",
       "      <th>billboard_2</th>\n",
       "    </tr>\n",
       "  </thead>\n",
       "  <tbody>\n",
       "    <tr>\n",
       "      <th>0</th>\n",
       "      <td>1</td>\n",
       "      <td>1</td>\n",
       "    </tr>\n",
       "    <tr>\n",
       "      <th>1</th>\n",
       "      <td>1</td>\n",
       "      <td>0</td>\n",
       "    </tr>\n",
       "    <tr>\n",
       "      <th>2</th>\n",
       "      <td>1</td>\n",
       "      <td>1</td>\n",
       "    </tr>\n",
       "    <tr>\n",
       "      <th>3</th>\n",
       "      <td>0</td>\n",
       "      <td>0</td>\n",
       "    </tr>\n",
       "    <tr>\n",
       "      <th>4</th>\n",
       "      <td>0</td>\n",
       "      <td>0</td>\n",
       "    </tr>\n",
       "    <tr>\n",
       "      <th>...</th>\n",
       "      <td>...</td>\n",
       "      <td>...</td>\n",
       "    </tr>\n",
       "    <tr>\n",
       "      <th>99995</th>\n",
       "      <td>0</td>\n",
       "      <td>0</td>\n",
       "    </tr>\n",
       "    <tr>\n",
       "      <th>99996</th>\n",
       "      <td>0</td>\n",
       "      <td>0</td>\n",
       "    </tr>\n",
       "    <tr>\n",
       "      <th>99997</th>\n",
       "      <td>0</td>\n",
       "      <td>1</td>\n",
       "    </tr>\n",
       "    <tr>\n",
       "      <th>99998</th>\n",
       "      <td>0</td>\n",
       "      <td>0</td>\n",
       "    </tr>\n",
       "    <tr>\n",
       "      <th>99999</th>\n",
       "      <td>0</td>\n",
       "      <td>1</td>\n",
       "    </tr>\n",
       "  </tbody>\n",
       "</table>\n",
       "<p>100000 rows × 2 columns</p>\n",
       "</div>"
      ],
      "text/plain": [
       "       billboard_1  billboard_2\n",
       "0                1            1\n",
       "1                1            0\n",
       "2                1            1\n",
       "3                0            0\n",
       "4                0            0\n",
       "...            ...          ...\n",
       "99995            0            0\n",
       "99996            0            0\n",
       "99997            0            1\n",
       "99998            0            0\n",
       "99999            0            1\n",
       "\n",
       "[100000 rows x 2 columns]"
      ]
     },
     "execution_count": 68,
     "metadata": {},
     "output_type": "execute_result"
    }
   ],
   "source": [
    "# 3. There are approximately 3 web development cohorts for \n",
    "#every 1 data science cohort at Codeup. Assuming that Codeup \n",
    "#randomly selects an alumni to put on a billboard, what are \n",
    "#the odds that the two billboards I drive past both have data \n",
    "#science students on them?\n",
    "#'web1', 'web2', 'web3', 'ds4'\n",
    "n_simulations = nrows = 10**5\n",
    "n_billboards = ncols = 2\n",
    "\n",
    "drive_by = np.random.choice([0,0,0,1], size = (nrows, ncols))\n",
    "drive_by_df = pd.DataFrame(drive_by, columns=['billboard_1', 'billboard_2'])\n",
    "drive_by_df"
   ]
  },
  {
   "cell_type": "code",
   "execution_count": 75,
   "id": "1f96b074",
   "metadata": {},
   "outputs": [
    {
     "data": {
      "text/plain": [
       "0.0607"
      ]
     },
     "execution_count": 75,
     "metadata": {},
     "output_type": "execute_result"
    }
   ],
   "source": [
    "\n",
    "((drive_by_df.sum(axis=1)==2).sum())/n_simulations\n",
    "\n"
   ]
  },
  {
   "cell_type": "code",
   "execution_count": null,
   "id": "1ae16b24",
   "metadata": {},
   "outputs": [],
   "source": [
    "\n",
    "#start 17 on Monday\n",
    "per_day = 3\n",
    "ndays = ncols = 7\n",
    "n_simulated_days = nrows = 10**5\n",
    "np.random.normal(loc=3, scale=1.5, size=None)\n",
    "\n",
    "#data = np.random.random(size =(nrows, ncols))\n"
   ]
  },
  {
   "cell_type": "code",
   "execution_count": 76,
   "id": "48883258",
   "metadata": {},
   "outputs": [],
   "source": [
    "#5. Compare Heights"
   ]
  },
  {
   "cell_type": "code",
   "execution_count": null,
   "id": "8ea0617e",
   "metadata": {},
   "outputs": [],
   "source": []
  }
 ],
 "metadata": {
  "kernelspec": {
   "display_name": "Python 3 (ipykernel)",
   "language": "python",
   "name": "python3"
  },
  "language_info": {
   "codemirror_mode": {
    "name": "ipython",
    "version": 3
   },
   "file_extension": ".py",
   "mimetype": "text/x-python",
   "name": "python",
   "nbconvert_exporter": "python",
   "pygments_lexer": "ipython3",
   "version": "3.9.12"
  }
 },
 "nbformat": 4,
 "nbformat_minor": 5
}
